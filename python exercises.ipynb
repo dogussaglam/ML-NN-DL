{
 "cells": [
  {
   "cell_type": "code",
   "execution_count": 1,
   "id": "46930eeb",
   "metadata": {},
   "outputs": [
    {
     "name": "stdout",
     "output_type": "stream",
     "text": [
      "100 1000.0 Bugün 'Yapay Zeka' Dersi Aldım\n"
     ]
    }
   ],
   "source": [
    "counter = 100 #integer\n",
    "distance = 1000.0 #float\n",
    "name = \"Bugün 'Yapay Zeka' Dersi Aldım\"\n",
    "\n",
    "print(counter, distance, name)"
   ]
  },
  {
   "cell_type": "code",
   "execution_count": 2,
   "id": "e1f3acc5",
   "metadata": {},
   "outputs": [
    {
     "name": "stdout",
     "output_type": "stream",
     "text": [
      "HelloWorld!\n",
      "H\n",
      "llo\n",
      "lloWorld!\n",
      "11\n",
      "HelloWorld!HelloWorld!\n",
      "HelloWorld! TEST\n"
     ]
    }
   ],
   "source": [
    "str = 'HelloWorld!' #zero based indexing\n",
    "\n",
    "print(str) \n",
    "print(str[0])\n",
    "print(str[2:5]) #2,3,4, 5'i alma\n",
    "print(str[2:])\n",
    "print(len(str)) #length (uzunluk)\n",
    "print(str * 2) \n",
    "print(str + \" TEST\") #string concatenation"
   ]
  },
  {
   "cell_type": "code",
   "execution_count": 3,
   "id": "3a0b89bd",
   "metadata": {},
   "outputs": [
    {
     "name": "stdout",
     "output_type": "stream",
     "text": [
      "['abcd', 786, 2.23, 'Bil', 70.2]\n",
      "abcd\n",
      "[786, 2.23]\n",
      "[2.23, 'Bil', 70.2]\n",
      "[123, 'Bil', 123, 'Bil']\n",
      "['abcd', 786, 2.23, 'Bil', 70.2, 123, 'Bil']\n"
     ]
    }
   ],
   "source": [
    "list = ['abcd', 786, 2.23, 'Bil', 70.2]\n",
    "minilist = [123, 'Bil']\n",
    "\n",
    "print(list)\n",
    "print(list[0])\n",
    "print(list[1:3])# 1,2, 3 dışarıda kalır\n",
    "print(list[2:])\n",
    "print(minilist * 2)\n",
    "print(list + minilist)"
   ]
  },
  {
   "cell_type": "code",
   "execution_count": 4,
   "id": "5919a3e9",
   "metadata": {},
   "outputs": [
    {
     "data": {
      "text/plain": [
       "5.666666666666667"
      ]
     },
     "execution_count": 4,
     "metadata": {},
     "output_type": "execute_result"
    }
   ],
   "source": [
    "17 / 3"
   ]
  },
  {
   "cell_type": "code",
   "execution_count": 5,
   "id": "41a5f59e",
   "metadata": {},
   "outputs": [
    {
     "data": {
      "text/plain": [
       "5.666666666666667"
      ]
     },
     "execution_count": 5,
     "metadata": {},
     "output_type": "execute_result"
    }
   ],
   "source": [
    "17 / 3.0 "
   ]
  },
  {
   "cell_type": "code",
   "execution_count": 6,
   "id": "0429a28d",
   "metadata": {},
   "outputs": [
    {
     "data": {
      "text/plain": [
       "5.0"
      ]
     },
     "execution_count": 6,
     "metadata": {},
     "output_type": "execute_result"
    }
   ],
   "source": [
    "17 // 3.0 #kalanlı bölme, kalan 2"
   ]
  },
  {
   "cell_type": "code",
   "execution_count": 7,
   "id": "ec9cf8d5",
   "metadata": {},
   "outputs": [
    {
     "data": {
      "text/plain": [
       "6"
      ]
     },
     "execution_count": 7,
     "metadata": {},
     "output_type": "execute_result"
    }
   ],
   "source": [
    "round(17/3)"
   ]
  },
  {
   "cell_type": "code",
   "execution_count": 8,
   "id": "28b8d15e",
   "metadata": {},
   "outputs": [
    {
     "data": {
      "text/plain": [
       "2"
      ]
     },
     "execution_count": 8,
     "metadata": {},
     "output_type": "execute_result"
    }
   ],
   "source": [
    "17 % 3 #mod alma "
   ]
  },
  {
   "cell_type": "code",
   "execution_count": 9,
   "id": "6f931eca",
   "metadata": {},
   "outputs": [
    {
     "data": {
      "text/plain": [
       "25"
      ]
     },
     "execution_count": 9,
     "metadata": {},
     "output_type": "execute_result"
    }
   ],
   "source": [
    "5 ** 2"
   ]
  },
  {
   "cell_type": "code",
   "execution_count": 10,
   "id": "19403fe5",
   "metadata": {},
   "outputs": [
    {
     "data": {
      "text/plain": [
       "128"
      ]
     },
     "execution_count": 10,
     "metadata": {},
     "output_type": "execute_result"
    }
   ],
   "source": [
    "2 ** 7"
   ]
  },
  {
   "cell_type": "code",
   "execution_count": 11,
   "id": "1b9cda69",
   "metadata": {},
   "outputs": [
    {
     "name": "stdout",
     "output_type": "stream",
     "text": [
      "900\n"
     ]
    }
   ],
   "source": [
    "width = 20\n",
    "height = 5 * 9\n",
    "print(width*height)"
   ]
  },
  {
   "cell_type": "code",
   "execution_count": 12,
   "id": "5d1f7a75",
   "metadata": {},
   "outputs": [
    {
     "data": {
      "text/plain": [
       "7.5"
      ]
     },
     "execution_count": 12,
     "metadata": {},
     "output_type": "execute_result"
    }
   ],
   "source": [
    "3 * 3.75 / 1.5"
   ]
  },
  {
   "cell_type": "code",
   "execution_count": 13,
   "id": "5cb1e018",
   "metadata": {},
   "outputs": [
    {
     "data": {
      "text/plain": [
       "3.5"
      ]
     },
     "execution_count": 13,
     "metadata": {},
     "output_type": "execute_result"
    }
   ],
   "source": [
    "7.0 / 2"
   ]
  },
  {
   "cell_type": "code",
   "execution_count": 14,
   "id": "30e9de32",
   "metadata": {},
   "outputs": [
    {
     "name": "stdout",
     "output_type": "stream",
     "text": [
      "1 True\n",
      "2 True\n",
      "3 False\n",
      "4 True\n",
      "5 False\n"
     ]
    },
    {
     "data": {
      "text/plain": [
       "'\\nAND Gate\\n0 0 | 0\\n0 1 | 0\\n1 0 | 0\\n1 1 | 1\\n\\nOR Gate\\n0 0 | 0\\n0 1 | 1\\n1 0 | 1\\n1 1 | 1\\n\\nXOR Gate\\na b   z\\n0 0 | 0\\n0 1 | 1\\n1 0 | 1\\n1 1 | 0\\n\\nNOT Gate\\n0 | 1\\n1 | 0\\n\\n'"
      ]
     },
     "execution_count": 14,
     "metadata": {},
     "output_type": "execute_result"
    }
   ],
   "source": [
    "# karar yapıları \n",
    "a = 6\n",
    "b = 7\n",
    "\n",
    "print(1, not a == 7 and b == 7)\n",
    "print(2, a == 7 or b == 7)\n",
    "print(3, a == 7 or b == 6)\n",
    "print(4, not (a == 7 and b == 6))\n",
    "print(5, not a == 7 and b == 6)\n",
    "\n",
    "\n",
    "\"\"\"\n",
    "AND Gate\n",
    "0 0 | 0\n",
    "0 1 | 0\n",
    "1 0 | 0\n",
    "1 1 | 1\n",
    "\n",
    "OR Gate\n",
    "0 0 | 0\n",
    "0 1 | 1\n",
    "1 0 | 1\n",
    "1 1 | 1\n",
    "\n",
    "XOR Gate\n",
    "a b   z\n",
    "0 0 | 0\n",
    "0 1 | 1\n",
    "1 0 | 1\n",
    "1 1 | 0\n",
    "\n",
    "NOT Gate\n",
    "0 | 1\n",
    "1 | 0\n",
    "\n",
    "\"\"\"\n"
   ]
  },
  {
   "cell_type": "code",
   "execution_count": 15,
   "id": "27e78824",
   "metadata": {},
   "outputs": [
    {
     "name": "stdout",
     "output_type": "stream",
     "text": [
      "a > b is :  False\n",
      "a < b is :  True\n",
      "a == b is :  False\n",
      "a != b is : True\n",
      "a >= b is : False\n",
      "a <= b is :  True\n"
     ]
    }
   ],
   "source": [
    "print('a > b is : ', a > b)\n",
    "print('a < b is : ', a < b)\n",
    "print('a == b is : ', a == b)\n",
    "print('a != b is :', a != b)\n",
    "print('a >= b is :', a >= b)\n",
    "print('a <= b is : ', a <= b)"
   ]
  },
  {
   "cell_type": "code",
   "execution_count": 16,
   "id": "1d86eaa9",
   "metadata": {},
   "outputs": [
    {
     "name": "stdout",
     "output_type": "stream",
     "text": [
      "False\n",
      "True\n"
     ]
    }
   ],
   "source": [
    "string1 = \"abc def ghi\"\n",
    "string2 = \"def ghi abc\"\n",
    "\n",
    "print(string1 == string2)\n",
    "print(string1 != string2)"
   ]
  },
  {
   "cell_type": "code",
   "execution_count": 17,
   "id": "d60180dc",
   "metadata": {},
   "outputs": [
    {
     "name": "stdout",
     "output_type": "stream",
     "text": [
      "False\n",
      "True\n"
     ]
    }
   ],
   "source": [
    "s1 = \"Mary\"\n",
    "s2 = \"Bary\"\n",
    "\n",
    "print(s1 < s2) #ASCII değer karşılaştırması kullanılır\n",
    "print(s1 > s2)"
   ]
  },
  {
   "cell_type": "code",
   "execution_count": 18,
   "id": "df0ac645",
   "metadata": {},
   "outputs": [
    {
     "ename": "KeyboardInterrupt",
     "evalue": "Interrupted by user",
     "output_type": "error",
     "traceback": [
      "\u001b[1;31m---------------------------------------------------------------------------\u001b[0m",
      "\u001b[1;31mKeyboardInterrupt\u001b[0m                         Traceback (most recent call last)",
      "\u001b[1;32m<ipython-input-18-3ce340a1f6bd>\u001b[0m in \u001b[0;36m<module>\u001b[1;34m\u001b[0m\n\u001b[0;32m      1\u001b[0m \u001b[1;31m#if elif else\u001b[0m\u001b[1;33m\u001b[0m\u001b[1;33m\u001b[0m\u001b[1;33m\u001b[0m\u001b[0m\n\u001b[1;32m----> 2\u001b[1;33m \u001b[0mnumber\u001b[0m \u001b[1;33m=\u001b[0m \u001b[0mint\u001b[0m\u001b[1;33m(\u001b[0m\u001b[0minput\u001b[0m\u001b[1;33m(\u001b[0m\u001b[1;34m\"Bir sayı giriniz: \"\u001b[0m\u001b[1;33m)\u001b[0m\u001b[1;33m)\u001b[0m\u001b[1;33m\u001b[0m\u001b[1;33m\u001b[0m\u001b[0m\n\u001b[0m\u001b[0;32m      3\u001b[0m \u001b[1;33m\u001b[0m\u001b[0m\n\u001b[0;32m      4\u001b[0m \u001b[1;32mif\u001b[0m \u001b[0mnumber\u001b[0m \u001b[1;33m==\u001b[0m \u001b[1;36m1\u001b[0m\u001b[1;33m:\u001b[0m\u001b[1;33m\u001b[0m\u001b[1;33m\u001b[0m\u001b[0m\n\u001b[0;32m      5\u001b[0m     \u001b[0mprint\u001b[0m\u001b[1;33m(\u001b[0m\u001b[1;34m'One'\u001b[0m\u001b[1;33m)\u001b[0m\u001b[1;33m\u001b[0m\u001b[1;33m\u001b[0m\u001b[0m\n",
      "\u001b[1;32m~\\anaconda\\envs\\python38\\lib\\site-packages\\ipykernel\\kernelbase.py\u001b[0m in \u001b[0;36mraw_input\u001b[1;34m(self, prompt)\u001b[0m\n\u001b[0;32m    858\u001b[0m                 \u001b[1;34m\"raw_input was called, but this frontend does not support input requests.\"\u001b[0m\u001b[1;33m\u001b[0m\u001b[1;33m\u001b[0m\u001b[0m\n\u001b[0;32m    859\u001b[0m             )\n\u001b[1;32m--> 860\u001b[1;33m         return self._input_request(str(prompt),\n\u001b[0m\u001b[0;32m    861\u001b[0m             \u001b[0mself\u001b[0m\u001b[1;33m.\u001b[0m\u001b[0m_parent_ident\u001b[0m\u001b[1;33m,\u001b[0m\u001b[1;33m\u001b[0m\u001b[1;33m\u001b[0m\u001b[0m\n\u001b[0;32m    862\u001b[0m             \u001b[0mself\u001b[0m\u001b[1;33m.\u001b[0m\u001b[0m_parent_header\u001b[0m\u001b[1;33m,\u001b[0m\u001b[1;33m\u001b[0m\u001b[1;33m\u001b[0m\u001b[0m\n",
      "\u001b[1;32m~\\anaconda\\envs\\python38\\lib\\site-packages\\ipykernel\\kernelbase.py\u001b[0m in \u001b[0;36m_input_request\u001b[1;34m(self, prompt, ident, parent, password)\u001b[0m\n\u001b[0;32m    902\u001b[0m             \u001b[1;32mexcept\u001b[0m \u001b[0mKeyboardInterrupt\u001b[0m\u001b[1;33m:\u001b[0m\u001b[1;33m\u001b[0m\u001b[1;33m\u001b[0m\u001b[0m\n\u001b[0;32m    903\u001b[0m                 \u001b[1;31m# re-raise KeyboardInterrupt, to truncate traceback\u001b[0m\u001b[1;33m\u001b[0m\u001b[1;33m\u001b[0m\u001b[1;33m\u001b[0m\u001b[0m\n\u001b[1;32m--> 904\u001b[1;33m                 \u001b[1;32mraise\u001b[0m \u001b[0mKeyboardInterrupt\u001b[0m\u001b[1;33m(\u001b[0m\u001b[1;34m\"Interrupted by user\"\u001b[0m\u001b[1;33m)\u001b[0m \u001b[1;32mfrom\u001b[0m \u001b[1;32mNone\u001b[0m\u001b[1;33m\u001b[0m\u001b[1;33m\u001b[0m\u001b[0m\n\u001b[0m\u001b[0;32m    905\u001b[0m             \u001b[1;32mexcept\u001b[0m \u001b[0mException\u001b[0m \u001b[1;32mas\u001b[0m \u001b[0me\u001b[0m\u001b[1;33m:\u001b[0m\u001b[1;33m\u001b[0m\u001b[1;33m\u001b[0m\u001b[0m\n\u001b[0;32m    906\u001b[0m                 \u001b[0mself\u001b[0m\u001b[1;33m.\u001b[0m\u001b[0mlog\u001b[0m\u001b[1;33m.\u001b[0m\u001b[0mwarning\u001b[0m\u001b[1;33m(\u001b[0m\u001b[1;34m\"Invalid Message:\"\u001b[0m\u001b[1;33m,\u001b[0m \u001b[0mexc_info\u001b[0m\u001b[1;33m=\u001b[0m\u001b[1;32mTrue\u001b[0m\u001b[1;33m)\u001b[0m\u001b[1;33m\u001b[0m\u001b[1;33m\u001b[0m\u001b[0m\n",
      "\u001b[1;31mKeyboardInterrupt\u001b[0m: Interrupted by user"
     ]
    }
   ],
   "source": [
    "#if elif else\n",
    "number = int(input(\"Bir sayı giriniz: \"))\n",
    "\n",
    "if number == 1:\n",
    "    print('One')\n",
    "\n",
    "else:\n",
    "    if number == 2:\n",
    "        print('Two')\n",
    "    \n",
    "    else:\n",
    "        if number == 3:\n",
    "            print('Three')\n",
    "        \n",
    "        else:\n",
    "            print('Unknown')"
   ]
  },
  {
   "cell_type": "code",
   "execution_count": null,
   "id": "9674c0bf",
   "metadata": {},
   "outputs": [],
   "source": [
    "number = int(input(\"Bir sayı giriniz: \"))\n",
    "\n",
    "if number == 1:\n",
    "    print('One')\n",
    "    \n",
    "elif number == 2:\n",
    "    print('Two')\n",
    "    \n",
    "elif number == 3:\n",
    "    print('Three')\n",
    "    \n",
    "else:\n",
    "    print('Unknown')"
   ]
  },
  {
   "cell_type": "code",
   "execution_count": null,
   "id": "8429c832",
   "metadata": {},
   "outputs": [],
   "source": [
    "name = input(\"What is your name? \")\n",
    "password = int(input(\"What is the password? \"))\n",
    "\n",
    "if name == \"dogusirt\" and password == 123456:\n",
    "    print(\"Welcome to the jungle!\")\n",
    "    \n",
    "elif name == \"programming\" and password == 987654:\n",
    "    print(\"Welcome mr. programming!\")\n",
    "    \n",
    "else:\n",
    "    print(\"siz de kim oluyorsunuz?\")"
   ]
  },
  {
   "cell_type": "code",
   "execution_count": null,
   "id": "bf3908ba",
   "metadata": {},
   "outputs": [],
   "source": [
    "x = 0.6\n",
    "y = 0.3\n",
    "\n",
    "print(0.0 <= x <= 0.5)\n",
    "print(0.5 >= y >= 0.1)"
   ]
  },
  {
   "cell_type": "code",
   "execution_count": null,
   "id": "452d682f",
   "metadata": {},
   "outputs": [],
   "source": [
    "num = 100\n",
    "if num <= 200:\n",
    "    print(\"Bu ifade doğru!\") \n",
    "    print(num)\n",
    "    \n",
    "elif num == 100:\n",
    "    print(\"Bu ifade de doğru!\")\n",
    "    print(num)\n",
    "    \n",
    "else:\n",
    "    print(\"Bu ifade hatalı!\")\n",
    "    print(num)\n",
    "    \n",
    "print(\"Güle Güle\")"
   ]
  },
  {
   "cell_type": "code",
   "execution_count": null,
   "id": "450cf808",
   "metadata": {},
   "outputs": [],
   "source": [
    "#Döngüler, Tekrarlı Yapılar"
   ]
  },
  {
   "cell_type": "code",
   "execution_count": null,
   "id": "76a999a8",
   "metadata": {},
   "outputs": [],
   "source": [
    "while True:\n",
    "    print(\"sonsuza kadar\")"
   ]
  },
  {
   "cell_type": "code",
   "execution_count": null,
   "id": "8a10e05b",
   "metadata": {},
   "outputs": [],
   "source": [
    "import cmath\n",
    "\n",
    "complex_num = cmath.sqrt(-1)\n",
    "while complex_num:\n",
    "    print(complex_num)"
   ]
  },
  {
   "cell_type": "code",
   "execution_count": null,
   "id": "0df5edfa",
   "metadata": {},
   "outputs": [],
   "source": [
    "#while, koşul kontrollü döngü\n",
    "count = 0\n",
    "while count < 9 :\n",
    "    print(f'The count is {count}')\n",
    "    count = count + 1\n",
    "print('Good bye!')"
   ]
  },
  {
   "cell_type": "code",
   "execution_count": null,
   "id": "9ac986d1",
   "metadata": {},
   "outputs": [],
   "source": [
    "#for-else, while-else\n",
    "mycount = 0\n",
    "while mycount < 5:\n",
    "    print(mycount, \"is less than 5\")\n",
    "    mycount += 1 #mycount = mycount + 1\n",
    "else:\n",
    "    print(mycount, \"is not less than 5\")"
   ]
  },
  {
   "cell_type": "code",
   "execution_count": null,
   "id": "c074822e",
   "metadata": {},
   "outputs": [],
   "source": [
    "range(5)"
   ]
  },
  {
   "cell_type": "code",
   "execution_count": null,
   "id": "ac208b7f",
   "metadata": {},
   "outputs": [],
   "source": [
    "for i in range(5,10):\n",
    "    print(i)"
   ]
  },
  {
   "cell_type": "code",
   "execution_count": null,
   "id": "4f36e4d4",
   "metadata": {},
   "outputs": [],
   "source": [
    "list = [*range(1,10,2)]\n",
    "print(list)"
   ]
  },
  {
   "cell_type": "code",
   "execution_count": null,
   "id": "cfa17a24",
   "metadata": {},
   "outputs": [],
   "source": [
    "list(range(1,10,2))"
   ]
  },
  {
   "cell_type": "code",
   "execution_count": null,
   "id": "c96e0ce0",
   "metadata": {},
   "outputs": [],
   "source": [
    "list(range(1,10,2))"
   ]
  },
  {
   "cell_type": "code",
   "execution_count": null,
   "id": "9c9b9017",
   "metadata": {},
   "outputs": [],
   "source": [
    "for var in range(10):\n",
    "    print(var)"
   ]
  },
  {
   "cell_type": "code",
   "execution_count": null,
   "id": "d90b5e09",
   "metadata": {},
   "outputs": [],
   "source": [
    "fruits = ['banana', 'apple', 'mango']\n",
    "for i in range(len(fruits)):\n",
    "    print('Current fruit :', fruits[i])\n",
    "print(\"Good bye!\")"
   ]
  },
  {
   "cell_type": "code",
   "execution_count": 21,
   "id": "5500ea91",
   "metadata": {},
   "outputs": [
    {
     "name": "stdout",
     "output_type": "stream",
     "text": [
      "Kaç öğrenciniz var? 2\n",
      "Öğrenci başına kaç test var? 2\n",
      "Öğrenci sayısı 1\n",
      "-----------------\n",
      "Test sayısı 1: 26\n",
      "Test sayısı 2: 58\n",
      "Öğrenci 1 için ortalama şudur:  42.0\n",
      "Öğrenci sayısı 2\n",
      "-----------------\n",
      "Test sayısı 1: 90\n",
      "Test sayısı 2: 98\n",
      "Öğrenci 2 için ortalama şudur:  94.0\n"
     ]
    }
   ],
   "source": [
    "num_students = int(input(\"Kaç öğrenciniz var? \"))\n",
    "\n",
    "num_test_scores = int(input(\"Öğrenci başına kaç test var? \"))\n",
    "\n",
    "for student in range(num_students):\n",
    "    total = 0.0\n",
    "    \n",
    "    print('Öğrenci sayısı', student + 1) #bir öğrencinin test skorlarını elde etme\n",
    "    print('-----------------')\n",
    "    \n",
    "    for test_num in range(num_test_scores):\n",
    "        print('Test sayısı', test_num + 1, end='')\n",
    "        score = float(input(': '))\n",
    "        \n",
    "        total += score #acc'e skorları ekle\n",
    "        \n",
    "    #ortalama hesabı\n",
    "    average = total / num_test_scores\n",
    "    \n",
    "    print('Öğrenci {} için ortalama'.format(student+1), 'şudur: ', average)"
   ]
  },
  {
   "cell_type": "code",
   "execution_count": 25,
   "id": "bc773132",
   "metadata": {},
   "outputs": [
    {
     "name": "stdout",
     "output_type": "stream",
     "text": [
      "1 * 1 = 1\n",
      "1 * 2 = 2\n",
      "1 * 3 = 3\n",
      "1 * 4 = 4\n",
      "1 * 5 = 5\n",
      "1 * 6 = 6\n",
      "1 * 7 = 7\n",
      "1 * 8 = 8\n",
      "1 * 9 = 9\n",
      "1 * 10 = 10\n",
      "\n",
      "2 * 1 = 2\n",
      "2 * 2 = 4\n",
      "2 * 3 = 6\n",
      "2 * 4 = 8\n",
      "2 * 5 = 10\n",
      "2 * 6 = 12\n",
      "2 * 7 = 14\n",
      "2 * 8 = 16\n",
      "2 * 9 = 18\n",
      "2 * 10 = 20\n",
      "\n",
      "3 * 1 = 3\n",
      "3 * 2 = 6\n",
      "3 * 3 = 9\n",
      "3 * 4 = 12\n",
      "3 * 5 = 15\n",
      "3 * 6 = 18\n",
      "3 * 7 = 21\n",
      "3 * 8 = 24\n",
      "3 * 9 = 27\n",
      "3 * 10 = 30\n",
      "\n",
      "4 * 1 = 4\n",
      "4 * 2 = 8\n",
      "4 * 3 = 12\n",
      "4 * 4 = 16\n",
      "4 * 5 = 20\n",
      "4 * 6 = 24\n",
      "4 * 7 = 28\n",
      "4 * 8 = 32\n",
      "4 * 9 = 36\n",
      "4 * 10 = 40\n",
      "\n",
      "5 * 1 = 5\n",
      "5 * 2 = 10\n",
      "5 * 3 = 15\n",
      "5 * 4 = 20\n",
      "5 * 5 = 25\n",
      "5 * 6 = 30\n",
      "5 * 7 = 35\n",
      "5 * 8 = 40\n",
      "5 * 9 = 45\n",
      "5 * 10 = 50\n",
      "\n",
      "6 * 1 = 6\n",
      "6 * 2 = 12\n",
      "6 * 3 = 18\n",
      "6 * 4 = 24\n",
      "6 * 5 = 30\n",
      "6 * 6 = 36\n",
      "6 * 7 = 42\n",
      "6 * 8 = 48\n",
      "6 * 9 = 54\n",
      "6 * 10 = 60\n",
      "\n",
      "7 * 1 = 7\n",
      "7 * 2 = 14\n",
      "7 * 3 = 21\n",
      "7 * 4 = 28\n",
      "7 * 5 = 35\n",
      "7 * 6 = 42\n",
      "7 * 7 = 49\n",
      "7 * 8 = 56\n",
      "7 * 9 = 63\n",
      "7 * 10 = 70\n",
      "\n",
      "8 * 1 = 8\n",
      "8 * 2 = 16\n",
      "8 * 3 = 24\n",
      "8 * 4 = 32\n",
      "8 * 5 = 40\n",
      "8 * 6 = 48\n",
      "8 * 7 = 56\n",
      "8 * 8 = 64\n",
      "8 * 9 = 72\n",
      "8 * 10 = 80\n",
      "\n",
      "9 * 1 = 9\n",
      "9 * 2 = 18\n",
      "9 * 3 = 27\n",
      "9 * 4 = 36\n",
      "9 * 5 = 45\n",
      "9 * 6 = 54\n",
      "9 * 7 = 63\n",
      "9 * 8 = 72\n",
      "9 * 9 = 81\n",
      "9 * 10 = 90\n",
      "\n",
      "10 * 1 = 10\n",
      "10 * 2 = 20\n",
      "10 * 3 = 30\n",
      "10 * 4 = 40\n",
      "10 * 5 = 50\n",
      "10 * 6 = 60\n",
      "10 * 7 = 70\n",
      "10 * 8 = 80\n",
      "10 * 9 = 90\n",
      "10 * 10 = 100\n",
      "\n"
     ]
    }
   ],
   "source": [
    "for x in range(1,11):\n",
    "    for y in range(1,11):\n",
    "        print('%d * %d = %d' % (x, y, x*y))\n",
    "    print()"
   ]
  },
  {
   "cell_type": "code",
   "execution_count": 27,
   "id": "21d5a440",
   "metadata": {},
   "outputs": [
    {
     "name": "stdout",
     "output_type": "stream",
     "text": [
      "X is now:  -20\n",
      "X is negative\n",
      "X is negative\n",
      "X is negative\n",
      "X is negative\n",
      "X is negative\n",
      "X is negative\n",
      "X is negative\n",
      "X is negative\n",
      "X is negative\n",
      "X is negative\n",
      "X is negative\n",
      "X is negative\n",
      "X is negative\n",
      "X is negative\n",
      "X is negative\n",
      "X is negative\n",
      "X is negative\n",
      "X is negative\n",
      "X is negative\n",
      "X is negative\n",
      "X is now:  1\n",
      "X is now:  2\n",
      "X is now:  3\n",
      "X is now:  4\n",
      "X is now:  5\n",
      "X is now:  6\n",
      "X is now:  7\n",
      "X is now:  8\n",
      "X is now:  9\n",
      "X is now:  10\n",
      "X is now:  11\n",
      "X is now:  12\n",
      "X is now:  13\n",
      "X is now:  14\n",
      "X is now:  15\n",
      "X is now:  16\n",
      "X is now:  17\n",
      "X is now:  18\n",
      "X is now:  19\n",
      "X is now:  20\n"
     ]
    }
   ],
   "source": [
    "#nested while loop\n",
    "x = -20\n",
    "y = 20\n",
    "while x <= y:\n",
    "    print(\"X is now: \", x)\n",
    "    x += 1\n",
    "    while x <= 0:\n",
    "        print(\"X is negative\")\n",
    "        x = x + 1"
   ]
  },
  {
   "cell_type": "code",
   "execution_count": 28,
   "id": "7854b81a",
   "metadata": {},
   "outputs": [
    {
     "name": "stdout",
     "output_type": "stream",
     "text": [
      "0\n",
      "1\n",
      "2\n",
      "done\n"
     ]
    }
   ],
   "source": [
    "# for else\n",
    "for i in range(3):\n",
    "    print(i)\n",
    "else:\n",
    "    print('done')"
   ]
  },
  {
   "cell_type": "code",
   "execution_count": 29,
   "id": "0760d1c3",
   "metadata": {},
   "outputs": [
    {
     "name": "stdout",
     "output_type": "stream",
     "text": [
      "0\n",
      "1\n"
     ]
    }
   ],
   "source": [
    "for i in range(2):\n",
    "    print(i)\n",
    "    if i == 1:\n",
    "        break\n",
    "else:\n",
    "    print(\"done\")"
   ]
  },
  {
   "cell_type": "code",
   "execution_count": null,
   "id": "763e8857",
   "metadata": {},
   "outputs": [],
   "source": []
  },
  {
   "cell_type": "code",
   "execution_count": null,
   "id": "bd9c70a8",
   "metadata": {},
   "outputs": [],
   "source": []
  },
  {
   "cell_type": "code",
   "execution_count": null,
   "id": "c531937c",
   "metadata": {},
   "outputs": [],
   "source": []
  },
  {
   "cell_type": "code",
   "execution_count": null,
   "id": "bd8530ec",
   "metadata": {},
   "outputs": [],
   "source": []
  },
  {
   "cell_type": "code",
   "execution_count": null,
   "id": "36373401",
   "metadata": {},
   "outputs": [],
   "source": []
  },
  {
   "cell_type": "code",
   "execution_count": null,
   "id": "a55f6d88",
   "metadata": {},
   "outputs": [],
   "source": []
  },
  {
   "cell_type": "code",
   "execution_count": null,
   "id": "f6e1bf70",
   "metadata": {},
   "outputs": [],
   "source": []
  },
  {
   "cell_type": "code",
   "execution_count": null,
   "id": "6453adc2",
   "metadata": {},
   "outputs": [],
   "source": []
  },
  {
   "cell_type": "code",
   "execution_count": null,
   "id": "4e673bc2",
   "metadata": {},
   "outputs": [],
   "source": []
  },
  {
   "cell_type": "code",
   "execution_count": null,
   "id": "0ccaead1",
   "metadata": {},
   "outputs": [],
   "source": []
  },
  {
   "cell_type": "code",
   "execution_count": null,
   "id": "3e0776a7",
   "metadata": {},
   "outputs": [],
   "source": []
  },
  {
   "cell_type": "code",
   "execution_count": null,
   "id": "df9c3b6a",
   "metadata": {},
   "outputs": [],
   "source": []
  },
  {
   "cell_type": "code",
   "execution_count": null,
   "id": "168f7ffd",
   "metadata": {},
   "outputs": [],
   "source": []
  },
  {
   "cell_type": "code",
   "execution_count": null,
   "id": "557657db",
   "metadata": {},
   "outputs": [],
   "source": []
  },
  {
   "cell_type": "code",
   "execution_count": null,
   "id": "f613db3a",
   "metadata": {},
   "outputs": [],
   "source": []
  },
  {
   "cell_type": "code",
   "execution_count": null,
   "id": "dcb6c248",
   "metadata": {},
   "outputs": [],
   "source": []
  },
  {
   "cell_type": "code",
   "execution_count": null,
   "id": "a1d02063",
   "metadata": {},
   "outputs": [],
   "source": []
  },
  {
   "cell_type": "code",
   "execution_count": null,
   "id": "9c224776",
   "metadata": {},
   "outputs": [],
   "source": []
  },
  {
   "cell_type": "code",
   "execution_count": null,
   "id": "5ac738b5",
   "metadata": {},
   "outputs": [],
   "source": []
  },
  {
   "cell_type": "code",
   "execution_count": null,
   "id": "76695a06",
   "metadata": {},
   "outputs": [],
   "source": []
  },
  {
   "cell_type": "code",
   "execution_count": null,
   "id": "4a9ff09a",
   "metadata": {},
   "outputs": [],
   "source": []
  },
  {
   "cell_type": "code",
   "execution_count": null,
   "id": "c805b47c",
   "metadata": {},
   "outputs": [],
   "source": []
  },
  {
   "cell_type": "code",
   "execution_count": null,
   "id": "c502bdef",
   "metadata": {},
   "outputs": [],
   "source": []
  },
  {
   "cell_type": "code",
   "execution_count": null,
   "id": "7f4cc163",
   "metadata": {},
   "outputs": [],
   "source": []
  },
  {
   "cell_type": "code",
   "execution_count": null,
   "id": "052dab0e",
   "metadata": {},
   "outputs": [],
   "source": []
  },
  {
   "cell_type": "code",
   "execution_count": null,
   "id": "ecdc0cb1",
   "metadata": {},
   "outputs": [],
   "source": []
  },
  {
   "cell_type": "code",
   "execution_count": null,
   "id": "7c3e6984",
   "metadata": {},
   "outputs": [],
   "source": []
  },
  {
   "cell_type": "code",
   "execution_count": null,
   "id": "d0a6d5d4",
   "metadata": {},
   "outputs": [],
   "source": []
  },
  {
   "cell_type": "code",
   "execution_count": null,
   "id": "36c788b1",
   "metadata": {},
   "outputs": [],
   "source": []
  },
  {
   "cell_type": "code",
   "execution_count": null,
   "id": "be1f73bf",
   "metadata": {},
   "outputs": [],
   "source": []
  },
  {
   "cell_type": "code",
   "execution_count": null,
   "id": "3f6b497a",
   "metadata": {},
   "outputs": [],
   "source": []
  }
 ],
 "metadata": {
  "kernelspec": {
   "display_name": "Python 3",
   "language": "python",
   "name": "python3"
  },
  "language_info": {
   "codemirror_mode": {
    "name": "ipython",
    "version": 3
   },
   "file_extension": ".py",
   "mimetype": "text/x-python",
   "name": "python",
   "nbconvert_exporter": "python",
   "pygments_lexer": "ipython3",
   "version": "3.8.10"
  }
 },
 "nbformat": 4,
 "nbformat_minor": 5
}
